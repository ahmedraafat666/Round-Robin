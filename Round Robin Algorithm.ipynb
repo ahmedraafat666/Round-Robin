{
 "cells": [
  {
   "cell_type": "code",
   "execution_count": 1,
   "id": "a38ae660",
   "metadata": {},
   "outputs": [],
   "source": [
    "# check for new arrived process  (step 1)\n",
    "# Execution for time quantum     (step 2)\n",
    "# repeat step 1\n",
    "# circular shift left\n",
    "# step 2"
   ]
  },
  {
   "cell_type": "code",
   "execution_count": 2,
   "id": "8a8744fb",
   "metadata": {},
   "outputs": [],
   "source": [
    "# process object\n",
    "# Gantt chart\n",
    "# shift cl\n",
    "# RR"
   ]
  },
  {
   "cell_type": "code",
   "execution_count": 3,
   "id": "5c89ecf9",
   "metadata": {},
   "outputs": [],
   "source": [
    "chart = []\n",
    "\n",
    "class process:\n",
    "    def __init__(self, pid, at, bt):\n",
    "        self.pid = pid\n",
    "        self.arrival = at\n",
    "        self.burst = bt"
   ]
  },
  {
   "cell_type": "code",
   "execution_count": 4,
   "id": "14afff97",
   "metadata": {},
   "outputs": [],
   "source": [
    "def shiftcl(alist):\n",
    "    temp = alist[0]\n",
    "    for i in range(len(alist)-1):\n",
    "        alist[i] = alist[i+1]\n",
    "    alist[len(alist)-1] = temp\n",
    "    return alist"
   ]
  },
  {
   "cell_type": "code",
   "execution_count": 5,
   "id": "2e36fcb0",
   "metadata": {},
   "outputs": [],
   "source": [
    "def RR(tq, plist, n):\n",
    "    global chart\n",
    "    \n",
    "    queue = []\n",
    "    time = 0\n",
    "    ap = 0    # arrived process\n",
    "    rp = 0    # ready process\n",
    "    done = 0  # done process\n",
    "    q = tq    # time quantum\n",
    "    start = 0\n",
    "    \n",
    "    while (done < n):\n",
    "        \n",
    "        for i in range(ap, n):\n",
    "            if time >= plist[i].arrival:\n",
    "                queue.append(plist[i])\n",
    "                ap += 1\n",
    "                rp += 1\n",
    "                \n",
    "        if rp < 1:\n",
    "            chart.append(0)\n",
    "            time += 1\n",
    "            continue\n",
    "            \n",
    "            \n",
    "        if start:\n",
    "            queue = shiftcl(queue)\n",
    "            \n",
    "        if queue[0].burst > 0:\n",
    "            if queue[0].burst > q:\n",
    "                for g in range(time, time + q):\n",
    "                    chart.append(queue[0].pid)\n",
    "                time += q\n",
    "                queue[0].burst -= q\n",
    "            else:\n",
    "                for g in range(time, time + q):\n",
    "                    chart.append(queue[0].pid)\n",
    "                time += queue[0].burst\n",
    "                queue[0].burst = 0\n",
    "                done += 1\n",
    "                rp -= 1\n",
    "                \n",
    "            start = 1"
   ]
  },
  {
   "cell_type": "code",
   "execution_count": 6,
   "id": "d1feb42b",
   "metadata": {},
   "outputs": [],
   "source": [
    "plist = []\n",
    "plist.append(process(1,0,5))\n",
    "plist.append(process(2,1,3))\n",
    "plist.append(process(3,3,6))\n",
    "plist.append(process(4,5,1))\n",
    "plist.append(process(5,6,4))"
   ]
  },
  {
   "cell_type": "code",
   "execution_count": 7,
   "id": "ec951bea",
   "metadata": {},
   "outputs": [
    {
     "name": "stdout",
     "output_type": "stream",
     "text": [
      "[1, 1, 1, 2, 2, 2, 3, 3, 3, 1, 1, 1, 4, 4, 4, 5, 5, 5, 3, 3, 3, 5, 5, 5]\n"
     ]
    }
   ],
   "source": [
    "RR(3, plist,len(plist))\n",
    "print(chart)"
   ]
  },
  {
   "cell_type": "code",
   "execution_count": null,
   "id": "fa3b22ad",
   "metadata": {},
   "outputs": [],
   "source": []
  },
  {
   "cell_type": "code",
   "execution_count": null,
   "id": "bee2ce12",
   "metadata": {},
   "outputs": [],
   "source": []
  }
 ],
 "metadata": {
  "kernelspec": {
   "display_name": "Python 3 (ipykernel)",
   "language": "python",
   "name": "python3"
  },
  "language_info": {
   "codemirror_mode": {
    "name": "ipython",
    "version": 3
   },
   "file_extension": ".py",
   "mimetype": "text/x-python",
   "name": "python",
   "nbconvert_exporter": "python",
   "pygments_lexer": "ipython3",
   "version": "3.10.9"
  }
 },
 "nbformat": 4,
 "nbformat_minor": 5
}
